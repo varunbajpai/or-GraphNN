{
 "cells": [
  {
   "cell_type": "code",
   "execution_count": 1,
   "metadata": {},
   "outputs": [
    {
     "name": "stderr",
     "output_type": "stream",
     "text": [
      "//anaconda3/lib/python3.7/site-packages/mxnet/optimizer/optimizer.py:167: UserWarning: WARNING: New optimizer gluonnlp.optimizer.lamb.LAMB is overriding existing optimizer mxnet.optimizer.optimizer.LAMB\n",
      "  Optimizer.opt_registry[name].__name__))\n"
     ]
    }
   ],
   "source": [
    "import autogluon as ag\n",
    "from autogluon import TabularPrediction as task"
   ]
  },
  {
   "cell_type": "code",
   "execution_count": 2,
   "metadata": {},
   "outputs": [
    {
     "name": "stderr",
     "output_type": "stream",
     "text": [
      "Loaded data from: Data/Train.csv | Columns = 146 / 146 | Rows = 49752 -> 49752\n"
     ]
    }
   ],
   "source": [
    "train_data = task.Dataset(file_path='Data/Train.csv')"
   ]
  },
  {
   "cell_type": "code",
   "execution_count": 3,
   "metadata": {},
   "outputs": [
    {
     "name": "stdout",
     "output_type": "stream",
     "text": [
      "Summary of class variable: \n",
      " count     49752\n",
      "unique        2\n",
      "top          No\n",
      "freq      35507\n",
      "Name: Churn, dtype: object\n"
     ]
    }
   ],
   "source": [
    "label_column = 'Churn'\n",
    "print(\"Summary of class variable: \\n\", train_data[label_column].describe())"
   ]
  },
  {
   "cell_type": "code",
   "execution_count": 4,
   "metadata": {},
   "outputs": [
    {
     "name": "stderr",
     "output_type": "stream",
     "text": [
      "Beginning AutoGluon training ...\n",
      "AutoGluon will save models to agModels-predictClass/\n",
      "Train Data Rows:    49752\n",
      "Train Data Columns: 146\n",
      "Preprocessing data ...\n",
      "Here are the first 10 unique label values in your data:  ['Yes' 'No']\n",
      "AutoGluon infers your prediction problem is: binary  (because only two unique label-values observed)\n",
      "If this is wrong, please specify `problem_type` argument in fit() instead (You may specify problem_type as one of: ['binary', 'multiclass', 'regression'])\n",
      "\n",
      "Warning: Updated label_count_threshold from 10 to 20 to avoid cutting too many classes.\n",
      "Selected class <--> label mapping:  class 1 = Yes, class 0 = No\n",
      "Feature Generator processed 49752 data points with 145 features\n",
      "Original Features:\n",
      "\tfloat features: 35\n",
      "\tint features: 110\n",
      "Generated Features:\n",
      "\tint features: 0\n",
      "All Features:\n",
      "\tfloat features: 35\n",
      "\tint features: 110\n",
      "\tData preprocessing and feature engineering runtime = 0.63s ...\n",
      "AutoGluon will gauge predictive performance using evaluation metric: accuracy\n",
      "To change this, specify the eval_metric argument of fit()\n",
      "AutoGluon will early stop models using evaluation metric: accuracy\n",
      "//anaconda3/lib/python3.7/imp.py:342: DeprecationWarning: Using or importing the ABCs from 'collections' instead of from 'collections.abc' is deprecated, and in 3.8 it will stop working\n",
      "  return _load(spec)\n",
      "Fitting model: RandomForestClassifierGini ...\n",
      "\t0.7136\t = Validation accuracy score\n",
      "\t7.51s\t = Training runtime\n",
      "\t0.24s\t = Validation runtime\n",
      "Fitting model: RandomForestClassifierEntr ...\n",
      "\t0.716\t = Validation accuracy score\n",
      "\t7.72s\t = Training runtime\n",
      "\t0.13s\t = Validation runtime\n",
      "Fitting model: ExtraTreesClassifierGini ...\n",
      "\t0.7132\t = Validation accuracy score\n",
      "\t11.04s\t = Training runtime\n",
      "\t0.24s\t = Validation runtime\n",
      "Fitting model: ExtraTreesClassifierEntr ...\n",
      "\t0.7152\t = Validation accuracy score\n",
      "\t12.23s\t = Training runtime\n",
      "\t0.23s\t = Validation runtime\n",
      "Fitting model: KNeighborsClassifierUnif ...\n",
      "\t0.6576\t = Validation accuracy score\n",
      "\t1.05s\t = Training runtime\n",
      "\t6.28s\t = Validation runtime\n",
      "Fitting model: KNeighborsClassifierDist ...\n",
      "\t0.652\t = Validation accuracy score\n",
      "\t1.04s\t = Training runtime\n",
      "\t6.14s\t = Validation runtime\n",
      "Fitting model: LightGBMClassifier ...\n",
      "\t0.7244\t = Validation accuracy score\n",
      "\t2.18s\t = Training runtime\n",
      "\t0.05s\t = Validation runtime\n",
      "Fitting model: CatboostClassifier ...\n",
      "\t0.72\t = Validation accuracy score\n",
      "\t2.27s\t = Training runtime\n",
      "\t0.03s\t = Validation runtime\n",
      "Fitting model: NeuralNetClassifier ...\n",
      "\t0.7144\t = Validation accuracy score\n",
      "\t95.3s\t = Training runtime\n",
      "\t1.45s\t = Validation runtime\n",
      "Fitting model: LightGBMClassifierCustom ...\n",
      "\t0.7196\t = Validation accuracy score\n",
      "\t3.39s\t = Training runtime\n",
      "\t0.04s\t = Validation runtime\n",
      "Fitting model: weighted_ensemble_k0_l1 ...\n",
      "\t0.7256\t = Validation accuracy score\n",
      "\t1.0s\t = Training runtime\n",
      "\t0.0s\t = Validation runtime\n",
      "AutoGluon training complete, total runtime = 185.38s ...\n"
     ]
    }
   ],
   "source": [
    "dir = 'agModels-predictClass' # specifies folder where to store trained models\n",
    "predictor = task.fit(train_data=train_data, label=label_column, output_directory=dir)"
   ]
  },
  {
   "cell_type": "code",
   "execution_count": 18,
   "metadata": {},
   "outputs": [
    {
     "name": "stderr",
     "output_type": "stream",
     "text": [
      "Loaded data from: Data/Test.csv | Columns = 146 / 146 | Rows = 5 -> 5\n"
     ]
    }
   ],
   "source": [
    "test_data = task.Dataset(file_path='Data/Test.csv')\n",
    "y_test = test_data[label_column]  # values to predict\n",
    "test_data_nolab = test_data.drop(labels=[label_column],axis=1) # delete label column to prove we're not cheating"
   ]
  },
  {
   "cell_type": "code",
   "execution_count": 19,
   "metadata": {},
   "outputs": [
    {
     "name": "stdout",
     "output_type": "stream",
     "text": [
      "Predictions:   ['Yes' 'No' 'No' 'No' 'Yes']\n"
     ]
    }
   ],
   "source": [
    "predictor = task.load(dir) # unnecessary, just demonstrates how to load previously-trained predictor from file\n",
    "\n",
    "y_pred = predictor.predict(test_data_nolab)\n",
    "print(\"Predictions:  \", y_pred)"
   ]
  },
  {
   "cell_type": "code",
   "execution_count": 21,
   "metadata": {},
   "outputs": [
    {
     "data": {
      "text/html": [
       "<div>\n",
       "<style scoped>\n",
       "    .dataframe tbody tr th:only-of-type {\n",
       "        vertical-align: middle;\n",
       "    }\n",
       "\n",
       "    .dataframe tbody tr th {\n",
       "        vertical-align: top;\n",
       "    }\n",
       "\n",
       "    .dataframe thead th {\n",
       "        text-align: right;\n",
       "    }\n",
       "</style>\n",
       "<table border=\"1\" class=\"dataframe\">\n",
       "  <thead>\n",
       "    <tr style=\"text-align: right;\">\n",
       "      <th></th>\n",
       "      <th>Churn</th>\n",
       "      <th>MonthlyRevenue</th>\n",
       "      <th>MonthlyMinutes</th>\n",
       "      <th>TotalRecurringCharge</th>\n",
       "      <th>DirectorAssistedCalls</th>\n",
       "      <th>OverageMinutes</th>\n",
       "      <th>RoamingCalls</th>\n",
       "      <th>PercChangeMinutes</th>\n",
       "      <th>PercChangeRevenues</th>\n",
       "      <th>DroppedCalls</th>\n",
       "      <th>...</th>\n",
       "      <th>Occupation_Crafts</th>\n",
       "      <th>Occupation_Homemaker</th>\n",
       "      <th>Occupation_Other</th>\n",
       "      <th>Occupation_Professional</th>\n",
       "      <th>Occupation_Retired</th>\n",
       "      <th>Occupation_Self</th>\n",
       "      <th>Occupation_Student</th>\n",
       "      <th>MaritalStatus_No</th>\n",
       "      <th>MaritalStatus_Unknown</th>\n",
       "      <th>MaritalStatus_Yes</th>\n",
       "    </tr>\n",
       "  </thead>\n",
       "  <tbody>\n",
       "    <tr>\n",
       "      <th>0</th>\n",
       "      <td>Yes</td>\n",
       "      <td>0.024537</td>\n",
       "      <td>0.029759</td>\n",
       "      <td>0.068966</td>\n",
       "      <td>0.001568</td>\n",
       "      <td>0.0</td>\n",
       "      <td>0.0</td>\n",
       "      <td>0.410058</td>\n",
       "      <td>0.303158</td>\n",
       "      <td>0.003157</td>\n",
       "      <td>...</td>\n",
       "      <td>0</td>\n",
       "      <td>0</td>\n",
       "      <td>0</td>\n",
       "      <td>1</td>\n",
       "      <td>0</td>\n",
       "      <td>0</td>\n",
       "      <td>0</td>\n",
       "      <td>1</td>\n",
       "      <td>0</td>\n",
       "      <td>0</td>\n",
       "    </tr>\n",
       "    <tr>\n",
       "      <th>1</th>\n",
       "      <td>Yes</td>\n",
       "      <td>0.018836</td>\n",
       "      <td>0.001359</td>\n",
       "      <td>0.056650</td>\n",
       "      <td>0.000000</td>\n",
       "      <td>0.0</td>\n",
       "      <td>0.0</td>\n",
       "      <td>0.426933</td>\n",
       "      <td>0.308448</td>\n",
       "      <td>0.001353</td>\n",
       "      <td>...</td>\n",
       "      <td>0</td>\n",
       "      <td>0</td>\n",
       "      <td>0</td>\n",
       "      <td>1</td>\n",
       "      <td>0</td>\n",
       "      <td>0</td>\n",
       "      <td>0</td>\n",
       "      <td>0</td>\n",
       "      <td>0</td>\n",
       "      <td>1</td>\n",
       "    </tr>\n",
       "    <tr>\n",
       "      <th>2</th>\n",
       "      <td>No</td>\n",
       "      <td>0.035924</td>\n",
       "      <td>0.001087</td>\n",
       "      <td>0.108374</td>\n",
       "      <td>0.000000</td>\n",
       "      <td>0.0</td>\n",
       "      <td>0.0</td>\n",
       "      <td>0.427153</td>\n",
       "      <td>0.308448</td>\n",
       "      <td>0.000000</td>\n",
       "      <td>...</td>\n",
       "      <td>1</td>\n",
       "      <td>0</td>\n",
       "      <td>0</td>\n",
       "      <td>0</td>\n",
       "      <td>0</td>\n",
       "      <td>0</td>\n",
       "      <td>0</td>\n",
       "      <td>0</td>\n",
       "      <td>0</td>\n",
       "      <td>1</td>\n",
       "    </tr>\n",
       "    <tr>\n",
       "      <th>3</th>\n",
       "      <td>No</td>\n",
       "      <td>0.071937</td>\n",
       "      <td>0.178285</td>\n",
       "      <td>0.199507</td>\n",
       "      <td>0.007780</td>\n",
       "      <td>0.0</td>\n",
       "      <td>0.0</td>\n",
       "      <td>0.444690</td>\n",
       "      <td>0.310704</td>\n",
       "      <td>0.234551</td>\n",
       "      <td>...</td>\n",
       "      <td>0</td>\n",
       "      <td>0</td>\n",
       "      <td>1</td>\n",
       "      <td>0</td>\n",
       "      <td>0</td>\n",
       "      <td>0</td>\n",
       "      <td>0</td>\n",
       "      <td>1</td>\n",
       "      <td>0</td>\n",
       "      <td>0</td>\n",
       "    </tr>\n",
       "    <tr>\n",
       "      <th>4</th>\n",
       "      <td>Yes</td>\n",
       "      <td>0.018958</td>\n",
       "      <td>0.000000</td>\n",
       "      <td>0.056650</td>\n",
       "      <td>0.000000</td>\n",
       "      <td>0.0</td>\n",
       "      <td>0.0</td>\n",
       "      <td>0.427374</td>\n",
       "      <td>0.308393</td>\n",
       "      <td>0.000000</td>\n",
       "      <td>...</td>\n",
       "      <td>0</td>\n",
       "      <td>0</td>\n",
       "      <td>0</td>\n",
       "      <td>1</td>\n",
       "      <td>0</td>\n",
       "      <td>0</td>\n",
       "      <td>0</td>\n",
       "      <td>0</td>\n",
       "      <td>0</td>\n",
       "      <td>1</td>\n",
       "    </tr>\n",
       "  </tbody>\n",
       "</table>\n",
       "<p>5 rows × 146 columns</p>\n",
       "</div>"
      ],
      "text/plain": [
       "  Churn  MonthlyRevenue  MonthlyMinutes  TotalRecurringCharge  \\\n",
       "0   Yes        0.024537        0.029759              0.068966   \n",
       "1   Yes        0.018836        0.001359              0.056650   \n",
       "2    No        0.035924        0.001087              0.108374   \n",
       "3    No        0.071937        0.178285              0.199507   \n",
       "4   Yes        0.018958        0.000000              0.056650   \n",
       "\n",
       "   DirectorAssistedCalls  OverageMinutes  RoamingCalls  PercChangeMinutes  \\\n",
       "0               0.001568             0.0           0.0           0.410058   \n",
       "1               0.000000             0.0           0.0           0.426933   \n",
       "2               0.000000             0.0           0.0           0.427153   \n",
       "3               0.007780             0.0           0.0           0.444690   \n",
       "4               0.000000             0.0           0.0           0.427374   \n",
       "\n",
       "   PercChangeRevenues  DroppedCalls  ...  Occupation_Crafts  \\\n",
       "0            0.303158      0.003157  ...                  0   \n",
       "1            0.308448      0.001353  ...                  0   \n",
       "2            0.308448      0.000000  ...                  1   \n",
       "3            0.310704      0.234551  ...                  0   \n",
       "4            0.308393      0.000000  ...                  0   \n",
       "\n",
       "   Occupation_Homemaker  Occupation_Other  Occupation_Professional  \\\n",
       "0                     0                 0                        1   \n",
       "1                     0                 0                        1   \n",
       "2                     0                 0                        0   \n",
       "3                     0                 1                        0   \n",
       "4                     0                 0                        1   \n",
       "\n",
       "   Occupation_Retired  Occupation_Self  Occupation_Student  MaritalStatus_No  \\\n",
       "0                   0                0                   0                 1   \n",
       "1                   0                0                   0                 0   \n",
       "2                   0                0                   0                 0   \n",
       "3                   0                0                   0                 1   \n",
       "4                   0                0                   0                 0   \n",
       "\n",
       "   MaritalStatus_Unknown  MaritalStatus_Yes  \n",
       "0                      0                  0  \n",
       "1                      0                  1  \n",
       "2                      0                  1  \n",
       "3                      0                  0  \n",
       "4                      0                  1  \n",
       "\n",
       "[5 rows x 146 columns]"
      ]
     },
     "execution_count": 21,
     "metadata": {},
     "output_type": "execute_result"
    }
   ],
   "source": [
    "pd.read_csv('Data/Test.csv')"
   ]
  },
  {
   "cell_type": "code",
   "execution_count": null,
   "metadata": {},
   "outputs": [],
   "source": []
  }
 ],
 "metadata": {
  "kernelspec": {
   "display_name": "Python 3",
   "language": "python",
   "name": "python3"
  },
  "language_info": {
   "codemirror_mode": {
    "name": "ipython",
    "version": 3
   },
   "file_extension": ".py",
   "mimetype": "text/x-python",
   "name": "python",
   "nbconvert_exporter": "python",
   "pygments_lexer": "ipython3",
   "version": "3.7.3"
  }
 },
 "nbformat": 4,
 "nbformat_minor": 2
}
