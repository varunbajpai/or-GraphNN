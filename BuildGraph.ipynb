{
 "cells": [
  {
   "cell_type": "code",
   "execution_count": 1,
   "metadata": {},
   "outputs": [],
   "source": [
    "#import libraries\n",
    "import dgl\n",
    "import pandas as pd\n",
    "import networkx as nx\n",
    "import numpy as np\n",
    "\n",
    "#import python files\n",
    "import Configuration"
   ]
  },
  {
   "cell_type": "code",
   "execution_count": 2,
   "metadata": {},
   "outputs": [],
   "source": [
    "# class BuildFeatureMappedGraph(BuildGraph):\n",
    "#     def __init__(self, feature):\n",
    "#         pass"
   ]
  },
  {
   "cell_type": "code",
   "execution_count": 3,
   "metadata": {},
   "outputs": [],
   "source": [
    "class BuildGraph:\n",
    "    def __init__(self, df):\n",
    "        self.df = df\n",
    "        self.df = self.df.drop(['Churn'],axis=1)\n",
    "        self.graph = dgl.DGLGraph()\n",
    "        self.graph.add_nodes(len(self.df))  \n",
    "        \n",
    "    def compare_similarity(self, row1, row2):\n",
    "        similarity_score = np.dot(row1,row2)\n",
    "        if similarity_score >= Configuration.SIMILARITY_THRESHOLD:\n",
    "            return True \n",
    "        else:\n",
    "            return False\n",
    "\n",
    "    def create_edges(self, val1, val2, node1, node2):\n",
    "        if self.compare_similarity(val1, val2):\n",
    "            edge_list = [(node1, node2)]\n",
    "            src, dst = tuple(zip(*edge_list))\n",
    "            self.graph.add_edges(src, dst)\n",
    "            self.graph.add_edges(dst, src)\n",
    "\n",
    "    def build_graph(self):\n",
    "        for i in range(len(self.df)-1):\n",
    "            for j in range(i+1,len(self.df)):\n",
    "                self.create_edges(self.df.iloc[i:i+1,:].values[0], self.df.iloc[j:j+1,:].values[0],i,j)\n",
    "        return self.graph\n",
    "    \n",
    "    def show_graph(self):\n",
    "        nx_G = self.graph.to_networkx().to_undirected()\n",
    "        pos = nx.kamada_kawai_layout(nx_G)\n",
    "        nx.draw(nx_G, pos, with_labels=True, node_color=[[.7, .7, .7]])\n",
    "        \n",
    "    \n",
    "    def assign_features_to_nodes(self):\n",
    "        for i in range(len(self.df)):\n",
    "            self.graph.nodes[i].data['feat'] =  self.df.iloc[[i],:].values\n",
    "        return self.graph"
   ]
  },
  {
   "cell_type": "code",
   "execution_count": 5,
   "metadata": {},
   "outputs": [
    {
     "data": {
      "image/png": "[encoded data removed]",
      "text/plain": [
       "<Figure size 432x288 with 1 Axes>"
      ]
     },
     "metadata": {},
     "output_type": "display_data"
    }
   ],
   "source": [
    "if __name__ == \"__main__\":\n",
    "    df = pd.read_csv(Configuration.PROCESSED_FILE_PATH, nrows=5)\n",
    "    buildGraph = BuildGraph(df)\n",
    "    graph = buildGraph.build_graph()\n",
    "    graph = buildGraph.assign_features_to_nodes()\n",
    "    buildGraph.show_graph()"
   ]
  },
  {
   "cell_type": "code",
   "execution_count": null,
   "metadata": {},
   "outputs": [],
   "source": []
  }
 ],
 "metadata": {
  "kernelspec": {
   "display_name": "Python 3",
   "language": "python",
   "name": "python3"
  },
  "language_info": {
   "codemirror_mode": {
    "name": "ipython",
    "version": 3
   },
   "file_extension": ".py",
   "mimetype": "text/x-python",
   "name": "python",
   "nbconvert_exporter": "python",
   "pygments_lexer": "ipython3",
   "version": "3.7.3"
  }
 },
 "nbformat": 4,
 "nbformat_minor": 2
}
