{
 "cells": [
  {
   "cell_type": "code",
   "execution_count": null,
   "metadata": {},
   "outputs": [],
   "source": [
    "#import libraries\n",
    "import pandas as pd\n",
    "import torch \n",
    "\n",
    "#import other python files\n",
    "import Configuration"
   ]
  },
  {
   "cell_type": "code",
   "execution_count": null,
   "metadata": {},
   "outputs": [],
   "source": [
    "class InputsAndLabels:\n",
    "    #Constructor\n",
    "    def __init__(self, df):\n",
    "        self.df = df\n",
    "        self.labels = df[Configuration.DEPENDENT_VAR].values\n",
    "        self.df = self.df.drop([Configuration.DEPENDENT_VAR],axis=1)\n",
    "    \n",
    "    #Creates X vaariable for input to the graph neural Network\n",
    "    def get_inputs(self):\n",
    "        inputs = []\n",
    "        for i in range(len(self.df)):\n",
    "            inputs.append(list(self.df.iloc[[i],:].values[0]))\n",
    "        return torch.tensor(inputs)\n",
    "\n",
    "    #Gets the Y variable, As labels for Training Data\n",
    "    def get_labels(self):\n",
    "        temp_labels = [0 for i in range(len(self.labels))]\n",
    "        for i in range(len(self.labels)):\n",
    "            if self.labels[i] == 'Yes':\n",
    "                temp_labels[i] = 1\n",
    "            else:\n",
    "                temp_labels[i] = 0\n",
    "        return torch.tensor(temp_labels)"
   ]
  },
  {
   "cell_type": "code",
   "execution_count": null,
   "metadata": {},
   "outputs": [],
   "source": [
    "class DataPreProcessing:\n",
    "    def __init__(self):\n",
    "        self.df = pd.read_csv(Configuration.TRAIN_DATAFILE_PATH)\n",
    "        self.df = self.df.dropna()\n",
    "    \n",
    "    #Process the Hard-Coded Variables\n",
    "    def process_specific_fields(self):\n",
    "        self.df = self.df.drop(['CustomerID'],axis=1)\n",
    "        self.df[\"HandsetPrice\"] = self.df[\"HandsetPrice\"].replace('Unknown', 0)\n",
    "        self.df['HandsetPrice'] = self.df['HandsetPrice'].astype(int)\n",
    "        self.df['ServiceArea'] = self.df['ServiceArea'].str.replace('\\d+', '')\n",
    "        self.df['ServiceArea'] = self.df['ServiceArea'].str[:3]\n",
    "        return self.df\n",
    "\n",
    "    #Normailize the rows with continuous variables\n",
    "    def normalize(self):\n",
    "        self.df[Configuration.CONT_VAR] = self.df[Configuration.CONT_VAR].apply(\n",
    "            lambda x: (x - x.min()) / (x.max() - x.min()))\n",
    "        return self.df\n",
    "\n",
    "    #One Hot encode the catagorical variables\n",
    "    def one_hot_encode(self):\n",
    "        self.df = pd.get_dummies(data=self.df, columns=Configuration.CAT_VAR)\n",
    "\n",
    "    #Save processed Data Files\n",
    "    def save_processed_file(self):\n",
    "        self.df.to_csv(Configuration.PROCESSED_FILE_PATH, index=False)\n",
    "    \n",
    "    #Applies PCA to the Dataset\n",
    "    def apply_pca(self):\n",
    "        pass\n"
   ]
  },
  {
   "cell_type": "code",
   "execution_count": null,
   "metadata": {},
   "outputs": [],
   "source": [
    "if __name__ == \"__main__\":\n",
    "    dataPreProcessing = DataPreProcessing()\n",
    "    df = dataPreProcessing.process_specific_fields()\n",
    "    df = dataPreProcessing.one_hot_encode()\n",
    "    df = dataPreProcessing.normalize()\n",
    "    dataPreProcessing.save_processed_file()"
   ]
  },
  {
   "cell_type": "code",
   "execution_count": null,
   "metadata": {},
   "outputs": [],
   "source": []
  }
 ],
 "metadata": {
  "kernelspec": {
   "display_name": "Python 3",
   "language": "python",
   "name": "python3"
  },
  "language_info": {
   "codemirror_mode": {
    "name": "ipython",
    "version": 3
   },
   "file_extension": ".py",
   "mimetype": "text/x-python",
   "name": "python",
   "nbconvert_exporter": "python",
   "pygments_lexer": "ipython3",
   "version": "3.7.3"
  }
 },
 "nbformat": 4,
 "nbformat_minor": 2
}
