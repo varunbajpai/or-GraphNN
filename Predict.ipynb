{
 "cells": [
  {
   "cell_type": "code",
   "execution_count": 14,
   "metadata": {},
   "outputs": [
    {
     "name": "stdout",
     "output_type": "stream",
     "text": [
      "importing Jupyter notebook from DataPreProcessing.ipynb\n"
     ]
    }
   ],
   "source": [
    "import import_ipynb\n",
    "import torch\n",
    "import tensorflow as tf\n",
    "import numpy as np\n",
    "from GraphNeuralNetwork import GCN\n",
    "import pandas as pd\n",
    "from BuildGraph import BuildGraph\n",
    "import Configuration\n",
    "from DataPreProcessing import DataPreProcessing, InputsAndLabels"
   ]
  },
  {
   "cell_type": "code",
   "execution_count": 12,
   "metadata": {},
   "outputs": [],
   "source": [
    "df = pd.read_csv(Configuration.PROCESSED_FILE_PATH, nrows=Configuration.NUMBER_OF_ROWS)\n",
    "buildGraph = BuildGraph(df)\n",
    "graph = buildGraph.build_graph()\n",
    "graph = buildGraph.assign_features_to_nodes()"
   ]
  },
  {
   "cell_type": "code",
   "execution_count": 15,
   "metadata": {},
   "outputs": [],
   "source": [
    "inputsAndLabels = InputsAndLabels(df)\n",
    "inputs = inputsAndLabels.get_inputs()"
   ]
  },
  {
   "cell_type": "code",
   "execution_count": 18,
   "metadata": {},
   "outputs": [],
   "source": [
    "net = torch.load('Models/CosineSimilarityModel.torch')\n",
    "logits = net(graph,inputs)"
   ]
  },
  {
   "cell_type": "code",
   "execution_count": 19,
   "metadata": {},
   "outputs": [],
   "source": [
    "predictions = tf.nn.softmax(np.asarray(logits.detach().numpy()))"
   ]
  },
  {
   "cell_type": "code",
   "execution_count": 20,
   "metadata": {},
   "outputs": [
    {
     "data": {
      "text/plain": [
       "<tf.Tensor: id=1, shape=(5, 2), dtype=float32, numpy=\n",
       "array([[4.6435202e-04, 9.9953568e-01],\n",
       "       [7.8400806e-09, 1.0000000e+00],\n",
       "       [9.9924123e-01, 7.5874309e-04],\n",
       "       [9.9945635e-01, 5.4362480e-04],\n",
       "       [3.4133444e-04, 9.9965870e-01]], dtype=float32)>"
      ]
     },
     "execution_count": 20,
     "metadata": {},
     "output_type": "execute_result"
    }
   ],
   "source": [
    "predictions"
   ]
  },
  {
   "cell_type": "code",
   "execution_count": null,
   "metadata": {},
   "outputs": [],
   "source": []
  }
 ],
 "metadata": {
  "kernelspec": {
   "display_name": "Python 3",
   "language": "python",
   "name": "python3"
  },
  "language_info": {
   "codemirror_mode": {
    "name": "ipython",
    "version": 3
   },
   "file_extension": ".py",
   "mimetype": "text/x-python",
   "name": "python",
   "nbconvert_exporter": "python",
   "pygments_lexer": "ipython3",
   "version": "3.7.3"
  }
 },
 "nbformat": 4,
 "nbformat_minor": 2
}
